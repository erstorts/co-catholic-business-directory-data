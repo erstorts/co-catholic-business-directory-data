{
 "cells": [
  {
   "cell_type": "markdown",
   "id": "9ca00f7f",
   "metadata": {},
   "source": [
    "# Text Clustering Notebook\n",
    "\n",
    "This template loads search text data, embeds it with **`sentence-transformers/all-MiniLM-L6-v2`**, clusters the embeddings using **HDBSCAN** _and_ **KMeans**, derives an intuitive name for each cluster (using an LLM) and finally visualizes everything with interactive **Plotly** scatter‑plots."
   ]
  },
  {
   "cell_type": "markdown",
   "id": "3edee20a",
   "metadata": {},
   "source": [
    "## Step 0 – Install dependencies (uncomment if needed)"
   ]
  },
  {
   "cell_type": "code",
   "execution_count": 56,
   "id": "57e956f5",
   "metadata": {},
   "outputs": [
    {
     "data": {
      "text/plain": [
       "True"
      ]
     },
     "execution_count": 56,
     "metadata": {},
     "output_type": "execute_result"
    }
   ],
   "source": [
    "import pandas as pd\n",
    "from sentence_transformers import SentenceTransformer\n",
    "from sklearn.cluster import KMeans\n",
    "import hdbscan\n",
    "import numpy as np\n",
    "import umap\n",
    "import plotly.express as px\n",
    "import duckdb\n",
    "from transformers import pipeline\n",
    "from openai import OpenAI\n",
    "from collections import defaultdict\n",
    "import tiktoken\n",
    "import random\n",
    "import textwrap\n",
    "from dotenv import load_dotenv\n",
    "import os\n",
    "load_dotenv()"
   ]
  },
  {
   "cell_type": "markdown",
   "id": "7f6bd068",
   "metadata": {},
   "source": [
    "## Step 1 – Load data"
   ]
  },
  {
   "cell_type": "code",
   "execution_count": null,
   "id": "c371eb81",
   "metadata": {},
   "outputs": [
    {
     "name": "stdout",
     "output_type": "stream",
     "text": [
      "(9771, 44)\n",
      "Index(['anonymousId', 'messageId', 'userId', 'originalTimestamp', 'userAgent',\n",
      "       'page.path', 'page.referrer', 'page.search', 'page.title', 'page.url',\n",
      "       'userAgentData.brands', 'userAgentData.mobile',\n",
      "       'userAgentData.platform', 'business_id', 'sponsored_listing',\n",
      "       'category', 'name', 'path', 'referrer', 'search', 'title', 'url',\n",
      "       'category_properties', 'name_properties', 'button_name', 'location',\n",
      "       'city', 'search_text', 'parish', 'traits', 'input_num', 'input_name',\n",
      "       'email', 'input_value', 'address', 'other_category', 'description',\n",
      "       'display_email', 'business_name', 'main_category', 'phone',\n",
      "       'sub_category', 'website', 'event_type'],\n",
      "      dtype='object')\n"
     ]
    },
    {
     "data": {
      "text/html": [
       "<div>\n",
       "<style scoped>\n",
       "    .dataframe tbody tr th:only-of-type {\n",
       "        vertical-align: middle;\n",
       "    }\n",
       "\n",
       "    .dataframe tbody tr th {\n",
       "        vertical-align: top;\n",
       "    }\n",
       "\n",
       "    .dataframe thead th {\n",
       "        text-align: right;\n",
       "    }\n",
       "</style>\n",
       "<table border=\"1\" class=\"dataframe\">\n",
       "  <thead>\n",
       "    <tr style=\"text-align: right;\">\n",
       "      <th></th>\n",
       "      <th>anonymousId</th>\n",
       "      <th>messageId</th>\n",
       "      <th>userId</th>\n",
       "      <th>originalTimestamp</th>\n",
       "      <th>userAgent</th>\n",
       "      <th>page.path</th>\n",
       "      <th>page.referrer</th>\n",
       "      <th>page.search</th>\n",
       "      <th>page.title</th>\n",
       "      <th>page.url</th>\n",
       "      <th>...</th>\n",
       "      <th>address</th>\n",
       "      <th>other_category</th>\n",
       "      <th>description</th>\n",
       "      <th>display_email</th>\n",
       "      <th>business_name</th>\n",
       "      <th>main_category</th>\n",
       "      <th>phone</th>\n",
       "      <th>sub_category</th>\n",
       "      <th>website</th>\n",
       "      <th>event_type</th>\n",
       "    </tr>\n",
       "  </thead>\n",
       "  <tbody>\n",
       "    <tr>\n",
       "      <th>0</th>\n",
       "      <td>e484246f-8684-4f92-ab30-1d093a3f5f60</td>\n",
       "      <td>ajs-next-1745859266475-8684ff92-2b30-4d09-ba3f...</td>\n",
       "      <td>NaN</td>\n",
       "      <td>2025-04-28 16:54:26.475000+00:00</td>\n",
       "      <td>Mozilla/5.0 (Linux; Android 12; Pixel 6 Build/...</td>\n",
       "      <td>/</td>\n",
       "      <td>https://www.facebook.com/</td>\n",
       "      <td>?fbclid=IwZXh0bgNhZW0CMTEAAR58oxCxVDihSoLzwMP_...</td>\n",
       "      <td>Colorado Catholic Business Directory</td>\n",
       "      <td>https://coloradocatholicbusinessdirectory.com/...</td>\n",
       "      <td>...</td>\n",
       "      <td>NaN</td>\n",
       "      <td>NaN</td>\n",
       "      <td>NaN</td>\n",
       "      <td>NaN</td>\n",
       "      <td>NaN</td>\n",
       "      <td>NaN</td>\n",
       "      <td>NaN</td>\n",
       "      <td>NaN</td>\n",
       "      <td>NaN</td>\n",
       "      <td>impression</td>\n",
       "    </tr>\n",
       "    <tr>\n",
       "      <th>1</th>\n",
       "      <td>e484246f-8684-4f92-ab30-1d093a3f5f60</td>\n",
       "      <td>ajs-next-1745859265303-246f8684-ff92-4b30-9d09...</td>\n",
       "      <td>NaN</td>\n",
       "      <td>2025-04-28 16:54:25.303000+00:00</td>\n",
       "      <td>Mozilla/5.0 (Linux; Android 12; Pixel 6 Build/...</td>\n",
       "      <td>/</td>\n",
       "      <td>https://www.facebook.com/</td>\n",
       "      <td>?fbclid=IwZXh0bgNhZW0CMTEAAR58oxCxVDihSoLzwMP_...</td>\n",
       "      <td>Colorado Catholic Business Directory</td>\n",
       "      <td>https://coloradocatholicbusinessdirectory.com/...</td>\n",
       "      <td>...</td>\n",
       "      <td>NaN</td>\n",
       "      <td>NaN</td>\n",
       "      <td>NaN</td>\n",
       "      <td>NaN</td>\n",
       "      <td>NaN</td>\n",
       "      <td>NaN</td>\n",
       "      <td>NaN</td>\n",
       "      <td>NaN</td>\n",
       "      <td>NaN</td>\n",
       "      <td>impression</td>\n",
       "    </tr>\n",
       "    <tr>\n",
       "      <th>2</th>\n",
       "      <td>e484246f-8684-4f92-ab30-1d093a3f5f60</td>\n",
       "      <td>ajs-next-1745859265295-13e48424-6f86-44ff-922b...</td>\n",
       "      <td>NaN</td>\n",
       "      <td>2025-04-28 16:54:25.295000+00:00</td>\n",
       "      <td>Mozilla/5.0 (Linux; Android 12; Pixel 6 Build/...</td>\n",
       "      <td>/</td>\n",
       "      <td>https://www.facebook.com/</td>\n",
       "      <td>?fbclid=IwZXh0bgNhZW0CMTEAAR58oxCxVDihSoLzwMP_...</td>\n",
       "      <td>Colorado Catholic Business Directory</td>\n",
       "      <td>https://coloradocatholicbusinessdirectory.com/...</td>\n",
       "      <td>...</td>\n",
       "      <td>NaN</td>\n",
       "      <td>NaN</td>\n",
       "      <td>NaN</td>\n",
       "      <td>NaN</td>\n",
       "      <td>NaN</td>\n",
       "      <td>NaN</td>\n",
       "      <td>NaN</td>\n",
       "      <td>NaN</td>\n",
       "      <td>NaN</td>\n",
       "      <td>page</td>\n",
       "    </tr>\n",
       "    <tr>\n",
       "      <th>3</th>\n",
       "      <td>39b9e148-9871-4dae-8fe9-b1f5845d3932</td>\n",
       "      <td>ajs-next-1745860775776-e2d11c37-72f4-449e-bbf8...</td>\n",
       "      <td>1743547621069x279645472884266780</td>\n",
       "      <td>2025-04-28 17:19:35.776000+00:00</td>\n",
       "      <td>Mozilla/5.0 (iPhone; CPU iPhone OS 18_4_1 like...</td>\n",
       "      <td>/</td>\n",
       "      <td>https://bit.ly/</td>\n",
       "      <td>NaN</td>\n",
       "      <td>Colorado Catholic Business Directory</td>\n",
       "      <td>https://coloradocatholicbusinessdirectory.com/</td>\n",
       "      <td>...</td>\n",
       "      <td>NaN</td>\n",
       "      <td>NaN</td>\n",
       "      <td>NaN</td>\n",
       "      <td>NaN</td>\n",
       "      <td>NaN</td>\n",
       "      <td>NaN</td>\n",
       "      <td>NaN</td>\n",
       "      <td>NaN</td>\n",
       "      <td>NaN</td>\n",
       "      <td>impression</td>\n",
       "    </tr>\n",
       "    <tr>\n",
       "      <th>4</th>\n",
       "      <td>39b9e148-9871-4dae-8fe9-b1f5845d3932</td>\n",
       "      <td>ajs-next-1745860775813-1c3772f4-d49e-4bf8-b69d...</td>\n",
       "      <td>1743547621069x279645472884266780</td>\n",
       "      <td>2025-04-28 17:19:35.813000+00:00</td>\n",
       "      <td>Mozilla/5.0 (iPhone; CPU iPhone OS 18_4_1 like...</td>\n",
       "      <td>/</td>\n",
       "      <td>https://bit.ly/</td>\n",
       "      <td>NaN</td>\n",
       "      <td>Colorado Catholic Business Directory</td>\n",
       "      <td>https://coloradocatholicbusinessdirectory.com/</td>\n",
       "      <td>...</td>\n",
       "      <td>NaN</td>\n",
       "      <td>NaN</td>\n",
       "      <td>NaN</td>\n",
       "      <td>NaN</td>\n",
       "      <td>NaN</td>\n",
       "      <td>NaN</td>\n",
       "      <td>NaN</td>\n",
       "      <td>NaN</td>\n",
       "      <td>NaN</td>\n",
       "      <td>impression</td>\n",
       "    </tr>\n",
       "  </tbody>\n",
       "</table>\n",
       "<p>5 rows × 44 columns</p>\n",
       "</div>"
      ],
      "text/plain": [
       "                            anonymousId  \\\n",
       "0  e484246f-8684-4f92-ab30-1d093a3f5f60   \n",
       "1  e484246f-8684-4f92-ab30-1d093a3f5f60   \n",
       "2  e484246f-8684-4f92-ab30-1d093a3f5f60   \n",
       "3  39b9e148-9871-4dae-8fe9-b1f5845d3932   \n",
       "4  39b9e148-9871-4dae-8fe9-b1f5845d3932   \n",
       "\n",
       "                                           messageId  \\\n",
       "0  ajs-next-1745859266475-8684ff92-2b30-4d09-ba3f...   \n",
       "1  ajs-next-1745859265303-246f8684-ff92-4b30-9d09...   \n",
       "2  ajs-next-1745859265295-13e48424-6f86-44ff-922b...   \n",
       "3  ajs-next-1745860775776-e2d11c37-72f4-449e-bbf8...   \n",
       "4  ajs-next-1745860775813-1c3772f4-d49e-4bf8-b69d...   \n",
       "\n",
       "                             userId                 originalTimestamp  \\\n",
       "0                               NaN  2025-04-28 16:54:26.475000+00:00   \n",
       "1                               NaN  2025-04-28 16:54:25.303000+00:00   \n",
       "2                               NaN  2025-04-28 16:54:25.295000+00:00   \n",
       "3  1743547621069x279645472884266780  2025-04-28 17:19:35.776000+00:00   \n",
       "4  1743547621069x279645472884266780  2025-04-28 17:19:35.813000+00:00   \n",
       "\n",
       "                                           userAgent page.path  \\\n",
       "0  Mozilla/5.0 (Linux; Android 12; Pixel 6 Build/...         /   \n",
       "1  Mozilla/5.0 (Linux; Android 12; Pixel 6 Build/...         /   \n",
       "2  Mozilla/5.0 (Linux; Android 12; Pixel 6 Build/...         /   \n",
       "3  Mozilla/5.0 (iPhone; CPU iPhone OS 18_4_1 like...         /   \n",
       "4  Mozilla/5.0 (iPhone; CPU iPhone OS 18_4_1 like...         /   \n",
       "\n",
       "               page.referrer  \\\n",
       "0  https://www.facebook.com/   \n",
       "1  https://www.facebook.com/   \n",
       "2  https://www.facebook.com/   \n",
       "3            https://bit.ly/   \n",
       "4            https://bit.ly/   \n",
       "\n",
       "                                         page.search  \\\n",
       "0  ?fbclid=IwZXh0bgNhZW0CMTEAAR58oxCxVDihSoLzwMP_...   \n",
       "1  ?fbclid=IwZXh0bgNhZW0CMTEAAR58oxCxVDihSoLzwMP_...   \n",
       "2  ?fbclid=IwZXh0bgNhZW0CMTEAAR58oxCxVDihSoLzwMP_...   \n",
       "3                                                NaN   \n",
       "4                                                NaN   \n",
       "\n",
       "                             page.title  \\\n",
       "0  Colorado Catholic Business Directory   \n",
       "1  Colorado Catholic Business Directory   \n",
       "2  Colorado Catholic Business Directory   \n",
       "3  Colorado Catholic Business Directory   \n",
       "4  Colorado Catholic Business Directory   \n",
       "\n",
       "                                            page.url  ... address  \\\n",
       "0  https://coloradocatholicbusinessdirectory.com/...  ...     NaN   \n",
       "1  https://coloradocatholicbusinessdirectory.com/...  ...     NaN   \n",
       "2  https://coloradocatholicbusinessdirectory.com/...  ...     NaN   \n",
       "3     https://coloradocatholicbusinessdirectory.com/  ...     NaN   \n",
       "4     https://coloradocatholicbusinessdirectory.com/  ...     NaN   \n",
       "\n",
       "  other_category description display_email business_name main_category phone  \\\n",
       "0            NaN         NaN           NaN           NaN           NaN   NaN   \n",
       "1            NaN         NaN           NaN           NaN           NaN   NaN   \n",
       "2            NaN         NaN           NaN           NaN           NaN   NaN   \n",
       "3            NaN         NaN           NaN           NaN           NaN   NaN   \n",
       "4            NaN         NaN           NaN           NaN           NaN   NaN   \n",
       "\n",
       "  sub_category website  event_type  \n",
       "0          NaN     NaN  impression  \n",
       "1          NaN     NaN  impression  \n",
       "2          NaN     NaN        page  \n",
       "3          NaN     NaN  impression  \n",
       "4          NaN     NaN  impression  \n",
       "\n",
       "[5 rows x 44 columns]"
      ]
     },
     "execution_count": 57,
     "metadata": {},
     "output_type": "execute_result"
    }
   ],
   "source": [
    "df = pd.read_csv('ccbd-data.csv')\n",
    "df = df[df['originalTimestamp'] >= '2025-01-01']\n",
    "print(df.shape)\n",
    "print(df.columns)\n",
    "df.head()"
   ]
  },
  {
   "cell_type": "code",
   "execution_count": 58,
   "id": "33994bc9",
   "metadata": {},
   "outputs": [
    {
     "name": "stdout",
     "output_type": "stream",
     "text": [
      "(129, 1)\n"
     ]
    },
    {
     "data": {
      "text/html": [
       "<div>\n",
       "<style scoped>\n",
       "    .dataframe tbody tr th:only-of-type {\n",
       "        vertical-align: middle;\n",
       "    }\n",
       "\n",
       "    .dataframe tbody tr th {\n",
       "        vertical-align: top;\n",
       "    }\n",
       "\n",
       "    .dataframe thead th {\n",
       "        text-align: right;\n",
       "    }\n",
       "</style>\n",
       "<table border=\"1\" class=\"dataframe\">\n",
       "  <thead>\n",
       "    <tr style=\"text-align: right;\">\n",
       "      <th></th>\n",
       "      <th>search_text</th>\n",
       "    </tr>\n",
       "  </thead>\n",
       "  <tbody>\n",
       "    <tr>\n",
       "      <th>0</th>\n",
       "      <td>sports</td>\n",
       "    </tr>\n",
       "    <tr>\n",
       "      <th>1</th>\n",
       "      <td>accounting</td>\n",
       "    </tr>\n",
       "    <tr>\n",
       "      <th>2</th>\n",
       "      <td>accounting</td>\n",
       "    </tr>\n",
       "    <tr>\n",
       "      <th>3</th>\n",
       "      <td>accounting</td>\n",
       "    </tr>\n",
       "    <tr>\n",
       "      <th>4</th>\n",
       "      <td>indoor painting</td>\n",
       "    </tr>\n",
       "    <tr>\n",
       "      <th>5</th>\n",
       "      <td>senior helpers</td>\n",
       "    </tr>\n",
       "    <tr>\n",
       "      <th>6</th>\n",
       "      <td>slider</td>\n",
       "    </tr>\n",
       "    <tr>\n",
       "      <th>7</th>\n",
       "      <td>decks</td>\n",
       "    </tr>\n",
       "    <tr>\n",
       "      <th>8</th>\n",
       "      <td>decks</td>\n",
       "    </tr>\n",
       "    <tr>\n",
       "      <th>9</th>\n",
       "      <td>painting</td>\n",
       "    </tr>\n",
       "  </tbody>\n",
       "</table>\n",
       "</div>"
      ],
      "text/plain": [
       "       search_text\n",
       "0           sports\n",
       "1       accounting\n",
       "2       accounting\n",
       "3       accounting\n",
       "4  indoor painting\n",
       "5   senior helpers\n",
       "6           slider\n",
       "7            decks\n",
       "8            decks\n",
       "9         painting"
      ]
     },
     "execution_count": 58,
     "metadata": {},
     "output_type": "execute_result"
    }
   ],
   "source": [
    "query = \"\"\"\n",
    "SELECT lower(search_text) as search_text\n",
    "FROM df\n",
    "WHERE event_type = 'search'\n",
    "and search_text is not null\n",
    "\"\"\"\n",
    "search_counts = duckdb.sql(query).df()\n",
    "print(search_counts.shape)\n",
    "search_counts.head(10)"
   ]
  },
  {
   "cell_type": "markdown",
   "id": "6db77274",
   "metadata": {},
   "source": [
    "## Step 2 – Embed text with MiniLM"
   ]
  },
  {
   "cell_type": "code",
   "execution_count": 59,
   "id": "92ef50fa",
   "metadata": {},
   "outputs": [
    {
     "name": "stderr",
     "output_type": "stream",
     "text": [
      "Batches:   0%|          | 0/3 [00:00<?, ?it/s]/Users/emmettstorts/.local/share/virtualenvs/co-catholic-business-directory-data-SownamtS/lib/python3.11/site-packages/torch/nn/modules/module.py:1762: FutureWarning:\n",
      "\n",
      "`encoder_attention_mask` is deprecated and will be removed in version 4.55.0 for `BertSdpaSelfAttention.forward`.\n",
      "\n",
      "Batches: 100%|██████████| 3/3 [00:00<00:00, 32.95it/s]\n"
     ]
    }
   ],
   "source": [
    "TEXT_COL = 'search_text'\n",
    "model = SentenceTransformer('sentence-transformers/all-MiniLM-L6-v2')\n",
    "embeddings = model.encode(\n",
    "    search_counts[TEXT_COL].tolist(),\n",
    "    batch_size=64,\n",
    "    show_progress_bar=True,\n",
    "    convert_to_numpy=True,\n",
    "    normalize_embeddings=True\n",
    ")"
   ]
  },
  {
   "cell_type": "markdown",
   "id": "6022405f",
   "metadata": {},
   "source": [
    "## Step 3 – Cluster embeddings"
   ]
  },
  {
   "cell_type": "code",
   "execution_count": 60,
   "id": "13a91e21",
   "metadata": {},
   "outputs": [
    {
     "name": "stderr",
     "output_type": "stream",
     "text": [
      "/Users/emmettstorts/.local/share/virtualenvs/co-catholic-business-directory-data-SownamtS/lib/python3.11/site-packages/sklearn/utils/deprecation.py:132: FutureWarning:\n",
      "\n",
      "'force_all_finite' was renamed to 'ensure_all_finite' in 1.6 and will be removed in 1.8.\n",
      "\n",
      "/Users/emmettstorts/.local/share/virtualenvs/co-catholic-business-directory-data-SownamtS/lib/python3.11/site-packages/sklearn/utils/deprecation.py:132: FutureWarning:\n",
      "\n",
      "'force_all_finite' was renamed to 'ensure_all_finite' in 1.6 and will be removed in 1.8.\n",
      "\n"
     ]
    }
   ],
   "source": [
    "# --- KMeans ---\n",
    "NUM_CLUSTERS = 7               # change this!\n",
    "km = KMeans(n_clusters=NUM_CLUSTERS, random_state=42, n_init='auto')\n",
    "km_labels = km.fit_predict(embeddings)\n",
    "\n",
    "# --- HDBSCAN ---\n",
    "hdb = hdbscan.HDBSCAN(min_cluster_size=NUM_CLUSTERS, metric='euclidean')\n",
    "hdb_labels = hdb.fit_predict(embeddings)\n",
    "\n",
    "# Attach labels to dataframe\n",
    "search_counts['kmeans_label']   = km_labels\n",
    "search_counts['hdbscan_label']  = hdb_labels"
   ]
  },
  {
   "cell_type": "markdown",
   "id": "1d01ef21",
   "metadata": {},
   "source": [
    "## Step 4 – Name clusters by their most central query"
   ]
  },
  {
   "cell_type": "code",
   "execution_count": 61,
   "id": "0b83230e",
   "metadata": {},
   "outputs": [
    {
     "name": "stdout",
     "output_type": "stream",
     "text": [
      "    kmeans_label          search_text  count\n",
      "6              0            painting       8\n",
      "5              0             painting      5\n",
      "0              0                decks      4\n",
      "2              0          embroidery       3\n",
      "1              0           embroidery      1\n",
      "3              0      indoor painting      1\n",
      "4              0              painter      1\n",
      "8              1              dentist      7\n",
      "11             1               kcraft      4\n",
      "10             1  general contractor       3\n",
      "    hdbscan_label              search_text  count\n",
      "15             -1                    decks      4\n",
      "30             -1                   kcraft      4\n",
      "0              -1                       ac      3\n",
      "19             -1                     hair      3\n",
      "34             -1              mechanical       3\n",
      "5              -1                     bees      2\n",
      "16             -1  emmaus catholic hospice      2\n",
      "18             -1               fireplace       2\n",
      "22             -1                homeopath      2\n",
      "26             -1            house repairs      2\n"
     ]
    }
   ],
   "source": [
    "# Aggregate by KMeans labels\n",
    "kmeans_counts = search_counts.groupby(['kmeans_label', 'search_text']).size().reset_index(name='count')\n",
    "kmeans_counts = kmeans_counts.sort_values(['kmeans_label', 'count'], ascending=[True, False])\n",
    "\n",
    "# Aggregate by HDBSCAN labels \n",
    "hdbscan_counts = search_counts.groupby(['hdbscan_label', 'search_text']).size().reset_index(name='count')\n",
    "hdbscan_counts = hdbscan_counts.sort_values(['hdbscan_label', 'count'], ascending=[True, False])\n",
    "\n",
    "print(kmeans_counts.head(10))\n",
    "print(hdbscan_counts.head(10))"
   ]
  },
  {
   "cell_type": "code",
   "execution_count": null,
   "id": "565c712d",
   "metadata": {},
   "outputs": [],
   "source": [
    "MODEL = \"gpt-3.5-turbo\"            # cheapest chat model\n",
    "client = OpenAI()\n",
    "\n",
    "# Helper: ensure prompt stays in model’s token limit\n",
    "enc = tiktoken.encoding_for_model(MODEL)\n",
    "def too_long(rows, max_tokens=4000):\n",
    "    prompt = ' '.join(rows)\n",
    "    return (len(enc.encode(prompt)) + 30) > max_tokens\n",
    "\n",
    "def get_cluster_name(rows):\n",
    "    if too_long(rows):\n",
    "        prompt_rows = rows[:20] + rows[-20:]\n",
    "    else:\n",
    "        prompt_rows = rows\n",
    "\n",
    "    user_prompt = f\"\"\"Given this data {str(prompt_rows)},\n",
    "    what is a good one or two word category for a search term scatter plot to understand what users on a business directory are searching for.\n",
    "    Only return the category name.\"\"\"\n",
    "    \n",
    "    response = client.responses.create(\n",
    "        model=MODEL,\n",
    "        instructions=\"You are a coding assistant that only gives one or two word answers.\",\n",
    "        input=user_prompt\n",
    "    )\n",
    "\n",
    "    return response.output_text"
   ]
  },
  {
   "cell_type": "code",
   "execution_count": 63,
   "id": "bda44bbc",
   "metadata": {},
   "outputs": [
    {
     "name": "stdout",
     "output_type": "stream",
     "text": [
      "\n",
      "KMeans AI cluster names:\n",
      "  0: Keywords\n",
      "  1: Services\n",
      "  2: Healthcare\n",
      "  3: finance\n",
      "  4: Products\n",
      "  5: Services\n",
      "  6: Construction\n",
      "\n",
      "HDBSCAN AI cluster names:\n",
      "  0: Art.\n",
      "  1: Services\n",
      "  2: Business departments\n"
     ]
    }
   ],
   "source": [
    "# Get AI-generated names for each cluster\n",
    "kmeans_ai_names = {}\n",
    "hdbscan_ai_names = {}\n",
    "\n",
    "# Get KMeans cluster names\n",
    "for label in kmeans_counts['kmeans_label'].unique():\n",
    "    if label == -1:  # Skip noise cluster if present\n",
    "        continue\n",
    "    cluster_searches = kmeans_counts[kmeans_counts['kmeans_label'] == label]['search_text'].tolist()\n",
    "    kmeans_ai_names[label] = get_cluster_name(cluster_searches)\n",
    "\n",
    "# Get HDBSCAN cluster names  \n",
    "for label in hdbscan_counts['hdbscan_label'].unique():\n",
    "    if label == -1:  # Skip noise cluster\n",
    "        continue\n",
    "    cluster_searches = hdbscan_counts[hdbscan_counts['hdbscan_label'] == label]['search_text'].tolist()\n",
    "    hdbscan_ai_names[label] = get_cluster_name(cluster_searches)\n",
    "\n",
    "# Map AI names back to main dataframe\n",
    "search_counts['kmeans_name'] = search_counts['kmeans_label'].map(kmeans_ai_names).fillna('Noise')\n",
    "search_counts['hdbscan_name'] = search_counts['hdbscan_label'].map(hdbscan_ai_names).fillna('Noise')\n",
    "\n",
    "print('\\nKMeans AI cluster names:')\n",
    "for cid, name in kmeans_ai_names.items():\n",
    "    print(f'  {cid}: {name}')\n",
    "\n",
    "print('\\nHDBSCAN AI cluster names:') \n",
    "for cid, name in hdbscan_ai_names.items():\n",
    "    print(f'  {cid}: {name}')\n"
   ]
  },
  {
   "cell_type": "markdown",
   "id": "a271df75",
   "metadata": {},
   "source": [
    "## Step 5 – Reduce to 2‑D with UMAP & visualize"
   ]
  },
  {
   "cell_type": "code",
   "execution_count": null,
   "id": "f9e521ee",
   "metadata": {},
   "outputs": [
    {
     "name": "stderr",
     "output_type": "stream",
     "text": [
      "/Users/emmettstorts/.local/share/virtualenvs/co-catholic-business-directory-data-SownamtS/lib/python3.11/site-packages/umap/umap_.py:1952: UserWarning:\n",
      "\n",
      "n_jobs value 1 overridden to 1 by setting random_state. Use no seed for parallelism.\n",
      "\n"
     ]
    },
    {
     "data": {
      "application/vnd.plotly.v1+json": {
       "config": {
        "plotlyServerURL": "https://plot.ly"
       },
       "data": [
        {
         "customdata": [
          [
           "sports",
           "Noise"
          ],
          [
           "senior helpers",
           "Noise"
          ],
          [
           "slider",
           "Noise"
          ],
          [
           "decks",
           "Noise"
          ],
          [
           "decks",
           "Noise"
          ],
          [
           "concrete",
           "Noise"
          ],
          [
           "decks",
           "Noise"
          ],
          [
           "decks",
           "Noise"
          ],
          [
           "landscaping ",
           "Noise"
          ],
          [
           "adjuster",
           "Noise"
          ],
          [
           "piano",
           "Noise"
          ],
          [
           "kcraft",
           "Noise"
          ],
          [
           "homeopathy",
           "Noise"
          ],
          [
           "homeopath",
           "Noise"
          ],
          [
           "kcraft",
           "Noise"
          ],
          [
           "wilcox",
           "Noise"
          ],
          [
           "kcraft",
           "Noise"
          ],
          [
           "kcraft",
           "Noise"
          ],
          [
           "fireplace ",
           "Noise"
          ],
          [
           "fireplace ",
           "Noise"
          ],
          [
           "homeschool",
           "Noise"
          ],
          [
           "books",
           "Noise"
          ],
          [
           "windows",
           "Noise"
          ],
          [
           "remodel",
           "Noise"
          ],
          [
           "emroidery",
           "Noise"
          ],
          [
           "remodeling",
           "Noise"
          ],
          [
           "children",
           "Noise"
          ],
          [
           "deacon tim",
           "Noise"
          ],
          [
           "homeopath",
           "Noise"
          ],
          [
           "my father's house",
           "Noise"
          ],
          [
           "ac",
           "Noise"
          ],
          [
           "ac",
           "Noise"
          ],
          [
           "ac",
           "Noise"
          ],
          [
           "air conditioning",
           "Noise"
          ],
          [
           "house tepairs",
           "Noise"
          ],
          [
           "handiman",
           "Noise"
          ],
          [
           "house repairs",
           "Noise"
          ],
          [
           "house repairs",
           "Noise"
          ],
          [
           "sunscreen",
           "Noise"
          ],
          [
           "montessori",
           "Noise"
          ],
          [
           "montessori",
           "Noise"
          ],
          [
           "sun",
           "Noise"
          ],
          [
           "realtor",
           "Noise"
          ],
          [
           "insurance",
           "Noise"
          ],
          [
           "lawyer",
           "Noise"
          ],
          [
           "mechanical ",
           "Noise"
          ],
          [
           "mechanical ",
           "Noise"
          ],
          [
           "mechanical ",
           "Noise"
          ],
          [
           "lawyer",
           "Noise"
          ],
          [
           "insurance",
           "Noise"
          ],
          [
           "senior",
           "Noise"
          ],
          [
           "jodi",
           "Noise"
          ],
          [
           "carpeting and floor care ",
           "Noise"
          ],
          [
           "emmaus catholic hospice",
           "Noise"
          ],
          [
           "cpa",
           "Noise"
          ],
          [
           "movers",
           "Noise"
          ],
          [
           "movers",
           "Noise"
          ],
          [
           "move",
           "Noise"
          ],
          [
           "aragon farms ",
           "Noise"
          ],
          [
           "wedding",
           "Noise"
          ],
          [
           "hair",
           "Noise"
          ],
          [
           "hair",
           "Noise"
          ],
          [
           "hair",
           "Noise"
          ],
          [
           "car",
           "Noise"
          ],
          [
           "honey",
           "Noise"
          ],
          [
           "bees",
           "Noise"
          ],
          [
           "book",
           "Noise"
          ],
          [
           "bees",
           "Noise"
          ],
          [
           "carpet installation ",
           "Noise"
          ],
          [
           "home health care ",
           "Noise"
          ],
          [
           "nano",
           "Noise"
          ],
          [
           "mark miller",
           "Noise"
          ],
          [
           "audio visual",
           "Noise"
          ],
          [
           "emmaus catholic hospice",
           "Noise"
          ],
          [
           "solera",
           "Noise"
          ]
         ],
         "hovertemplate": "hdbscan_name=%{customdata[1]}<br>x=%{x}<br>y=%{y}<br>search_text=%{customdata[0]}<extra></extra>",
         "legendgroup": "Noise",
         "marker": {
          "color": "#e41a1c",
          "symbol": "circle"
         },
         "mode": "markers",
         "name": "Noise",
         "orientation": "v",
         "showlegend": true,
         "type": "scatter",
         "x": {
          "bdata": "1svpQDxSPEEoITJB8f3gQJpz40BGCh9B8nPgQI4Z30BAPB5BadotQQVyAkFj1h5B030bQfGfGUGFMB5BquVGQa4+HkGJ9BtB/94hQSWEIEGEdw5BUHz/QMBO+UDL2iNBuuIYQXVOI0HUugJBR3tIQcZSHEHwfB5B8RUQQWPdEkGA+A9BN1YUQWLeIkFfKjdBPpwmQbQfJkH4eghBmMQQQZCdD0FpbwdBhkMkQd9MJkHVtCtB/W8fQWbtGkEiax1BVKcrQY5NJ0Hn8TxBpdANQWMGK0EQDhlBzNHGQHGBMkGQkDNBx9AvQdqCHEHIopA/rioBQSckAUGGzQNBtuEGQVjnAEEFh/9AScECQaoIAEFSVSxBEWcgQTWoB0FGuUpBaIfAPg5BGUH5wwxB",
          "dtype": "f4"
         },
         "xaxis": "x",
         "y": {
          "bdata": "73UgQXKzH0Hqi/JAK0EcQbJ+HUFjAu1Ag/sbQbFeG0EwEfVA/TDrQH6XNkFjuNJArToqQfS3J0F+dNJAJuFJQT6Y0UBB8MxAOIMKQeyICkHwDzBBr7c3QTjkLUFUn+1ARVXYQK8O8EA6sTBBVRFGQS38KEFJUwhBY94VQedsE0EgoxVB6iITQaKKB0FfSxFBkOQAQYk3AkGThh1B6qYxQRGoMkGyPx9BG6AFQUJzLEHdXCtBkFzZQA7S2UBUtN9AH68pQQJVLUE/VSNBnZ8kQVL7A0H0czBB3YBjQXUb80CxJu9ASGj3QBHFAEGIco1By1UtQaTZKkEtDClB5C8wQRNVIkEz/iFB5EIzQd6lIUFDzgVBUhIuQU7ZGUFjBUdBiUmSQejTMUH2mCNB",
          "dtype": "f4"
         },
         "yaxis": "y"
        },
        {
         "customdata": [
          [
           "accounting",
           "Business departments"
          ],
          [
           "accounting",
           "Business departments"
          ],
          [
           "accounting",
           "Business departments"
          ],
          [
           "revenue",
           "Business departments"
          ],
          [
           "sales",
           "Business departments"
          ],
          [
           "sales",
           "Business departments"
          ],
          [
           "accounting",
           "Business departments"
          ],
          [
           "accounting",
           "Business departments"
          ],
          [
           "accounting",
           "Business departments"
          ],
          [
           "finance ",
           "Business departments"
          ]
         ],
         "hovertemplate": "hdbscan_name=%{customdata[1]}<br>x=%{x}<br>y=%{y}<br>search_text=%{customdata[0]}<extra></extra>",
         "legendgroup": "Business departments",
         "marker": {
          "color": "#377eb8",
          "symbol": "circle"
         },
         "mode": "markers",
         "name": "Business departments",
         "orientation": "v",
         "showlegend": true,
         "type": "scatter",
         "x": {
          "bdata": "u6vBQJYmx0DqCL9Aim65QL7ltUBahbhAySDBQPR9xUCnWsNAikvNQA==",
          "dtype": "f4"
         },
         "xaxis": "x",
         "y": {
          "bdata": "ryBkQQUnZ0GKzWZBVZZeQV6SXEGu91xB+C1lQQwZZUGfZ2JBLJphQQ==",
          "dtype": "f4"
         },
         "yaxis": "y"
        },
        {
         "customdata": [
          [
           "indoor painting",
           "Art."
          ],
          [
           "painting",
           "Art."
          ],
          [
           "painting",
           "Art."
          ],
          [
           "painting",
           "Art."
          ],
          [
           "painting",
           "Art."
          ],
          [
           "embroidery ",
           "Art."
          ],
          [
           "painting ",
           "Art."
          ],
          [
           "painting ",
           "Art."
          ],
          [
           "painting ",
           "Art."
          ],
          [
           "painting ",
           "Art."
          ],
          [
           "embroidery ",
           "Art."
          ],
          [
           "painting ",
           "Art."
          ],
          [
           "painting ",
           "Art."
          ],
          [
           "painting ",
           "Art."
          ],
          [
           "embroidery ",
           "Art."
          ],
          [
           "painting ",
           "Art."
          ],
          [
           "painting",
           "Art."
          ],
          [
           "painter",
           "Art."
          ],
          [
           "embroidery",
           "Art."
          ],
          [
           "hair",
           "Art."
          ]
         ],
         "hovertemplate": "hdbscan_name=%{customdata[1]}<br>x=%{x}<br>y=%{y}<br>search_text=%{customdata[0]}<extra></extra>",
         "legendgroup": "Art.",
         "marker": {
          "color": "#4daf4a",
          "symbol": "circle"
         },
         "mode": "markers",
         "name": "Art.",
         "orientation": "v",
         "showlegend": true,
         "type": "scatter",
         "x": {
          "bdata": "+evoPqPsiz4nsAk/A/SoPqfuRz8tCls/gU0gP7AI1z70RCs/oUnEPgTNPT+aY5Q+c/cJP/ofRT9Vk2c/fbqHPpDaLz94zkC6NIR9P7gFA0E=",
          "dtype": "f4"
         },
         "xaxis": "x",
         "y": {
          "bdata": "gPSQQeNuj0HTJI9BONuRQctNkUHU5I1BAtmPQSSajkHyppFBS1mNQRdbi0ECcY1BpOuLQfG5j0EZrIxBvl+PQQ0hjUHupo9BgjiQQSdaKkE=",
          "dtype": "f4"
         },
         "yaxis": "y"
        },
        {
         "customdata": [
          [
           "plumber",
           "Services"
          ],
          [
           "handyman",
           "Services"
          ],
          [
           "builders",
           "Services"
          ],
          [
           "construction",
           "Services"
          ],
          [
           "plumber",
           "Services"
          ],
          [
           "plumber",
           "Services"
          ],
          [
           "general contractor ",
           "Services"
          ],
          [
           "general contractor ",
           "Services"
          ],
          [
           "general contractor ",
           "Services"
          ],
          [
           "handyman ",
           "Services"
          ],
          [
           "handyman ",
           "Services"
          ],
          [
           "school",
           "Services"
          ],
          [
           "school",
           "Services"
          ],
          [
           "dentist",
           "Services"
          ],
          [
           "dentist",
           "Services"
          ],
          [
           "dentist",
           "Services"
          ],
          [
           "dentist",
           "Services"
          ],
          [
           "dentist",
           "Services"
          ],
          [
           "electrician",
           "Services"
          ],
          [
           "plumber",
           "Services"
          ],
          [
           "housing",
           "Services"
          ],
          [
           "dentist",
           "Services"
          ],
          [
           "dentist",
           "Services"
          ],
          [
           "construction",
           "Services"
          ]
         ],
         "hovertemplate": "hdbscan_name=%{customdata[1]}<br>x=%{x}<br>y=%{y}<br>search_text=%{customdata[0]}<extra></extra>",
         "legendgroup": "Services",
         "marker": {
          "color": "#984ea3",
          "symbol": "circle"
         },
         "mode": "markers",
         "name": "Services",
         "orientation": "v",
         "showlegend": true,
         "type": "scatter",
         "x": {
          "bdata": "tdtBQX3kOUH1ziFBengdQZ73QEGD2kVBdfI0QWuCM0HNPTdBqqo4QQ1IOkFZKgRBtGD+QEpcP0FMLUBBRc9AQe2SQkHKeUZBdPIxQQDaQEGHeSNBcW9EQeuFQ0GUXiBB",
          "dtype": "f4"
         },
         "xaxis": "x",
         "y": {
          "bdata": "WDpMQWwRF0Fu6P1ABSHvQFWoUUHwu1BBB/AWQVmfF0FzTRVBfmYVQZ0bFUEBQC5BB8gxQYjXSkF47khB+TJPQcn7TUHCFFJBd5wdQXIsT0HIKABBwXhNQVYQT0GAuedA",
          "dtype": "f4"
         },
         "yaxis": "y"
        }
       ],
       "layout": {
        "legend": {
         "title": {
          "text": "hdbscan_name"
         },
         "tracegroupgap": 0
        },
        "template": {
         "data": {
          "bar": [
           {
            "error_x": {
             "color": "#2a3f5f"
            },
            "error_y": {
             "color": "#2a3f5f"
            },
            "marker": {
             "line": {
              "color": "#E5ECF6",
              "width": 0.5
             },
             "pattern": {
              "fillmode": "overlay",
              "size": 10,
              "solidity": 0.2
             }
            },
            "type": "bar"
           }
          ],
          "barpolar": [
           {
            "marker": {
             "line": {
              "color": "#E5ECF6",
              "width": 0.5
             },
             "pattern": {
              "fillmode": "overlay",
              "size": 10,
              "solidity": 0.2
             }
            },
            "type": "barpolar"
           }
          ],
          "carpet": [
           {
            "aaxis": {
             "endlinecolor": "#2a3f5f",
             "gridcolor": "white",
             "linecolor": "white",
             "minorgridcolor": "white",
             "startlinecolor": "#2a3f5f"
            },
            "baxis": {
             "endlinecolor": "#2a3f5f",
             "gridcolor": "white",
             "linecolor": "white",
             "minorgridcolor": "white",
             "startlinecolor": "#2a3f5f"
            },
            "type": "carpet"
           }
          ],
          "choropleth": [
           {
            "colorbar": {
             "outlinewidth": 0,
             "ticks": ""
            },
            "type": "choropleth"
           }
          ],
          "contour": [
           {
            "colorbar": {
             "outlinewidth": 0,
             "ticks": ""
            },
            "colorscale": [
             [
              0,
              "#0d0887"
             ],
             [
              0.1111111111111111,
              "#46039f"
             ],
             [
              0.2222222222222222,
              "#7201a8"
             ],
             [
              0.3333333333333333,
              "#9c179e"
             ],
             [
              0.4444444444444444,
              "#bd3786"
             ],
             [
              0.5555555555555556,
              "#d8576b"
             ],
             [
              0.6666666666666666,
              "#ed7953"
             ],
             [
              0.7777777777777778,
              "#fb9f3a"
             ],
             [
              0.8888888888888888,
              "#fdca26"
             ],
             [
              1,
              "#f0f921"
             ]
            ],
            "type": "contour"
           }
          ],
          "contourcarpet": [
           {
            "colorbar": {
             "outlinewidth": 0,
             "ticks": ""
            },
            "type": "contourcarpet"
           }
          ],
          "heatmap": [
           {
            "colorbar": {
             "outlinewidth": 0,
             "ticks": ""
            },
            "colorscale": [
             [
              0,
              "#0d0887"
             ],
             [
              0.1111111111111111,
              "#46039f"
             ],
             [
              0.2222222222222222,
              "#7201a8"
             ],
             [
              0.3333333333333333,
              "#9c179e"
             ],
             [
              0.4444444444444444,
              "#bd3786"
             ],
             [
              0.5555555555555556,
              "#d8576b"
             ],
             [
              0.6666666666666666,
              "#ed7953"
             ],
             [
              0.7777777777777778,
              "#fb9f3a"
             ],
             [
              0.8888888888888888,
              "#fdca26"
             ],
             [
              1,
              "#f0f921"
             ]
            ],
            "type": "heatmap"
           }
          ],
          "histogram": [
           {
            "marker": {
             "pattern": {
              "fillmode": "overlay",
              "size": 10,
              "solidity": 0.2
             }
            },
            "type": "histogram"
           }
          ],
          "histogram2d": [
           {
            "colorbar": {
             "outlinewidth": 0,
             "ticks": ""
            },
            "colorscale": [
             [
              0,
              "#0d0887"
             ],
             [
              0.1111111111111111,
              "#46039f"
             ],
             [
              0.2222222222222222,
              "#7201a8"
             ],
             [
              0.3333333333333333,
              "#9c179e"
             ],
             [
              0.4444444444444444,
              "#bd3786"
             ],
             [
              0.5555555555555556,
              "#d8576b"
             ],
             [
              0.6666666666666666,
              "#ed7953"
             ],
             [
              0.7777777777777778,
              "#fb9f3a"
             ],
             [
              0.8888888888888888,
              "#fdca26"
             ],
             [
              1,
              "#f0f921"
             ]
            ],
            "type": "histogram2d"
           }
          ],
          "histogram2dcontour": [
           {
            "colorbar": {
             "outlinewidth": 0,
             "ticks": ""
            },
            "colorscale": [
             [
              0,
              "#0d0887"
             ],
             [
              0.1111111111111111,
              "#46039f"
             ],
             [
              0.2222222222222222,
              "#7201a8"
             ],
             [
              0.3333333333333333,
              "#9c179e"
             ],
             [
              0.4444444444444444,
              "#bd3786"
             ],
             [
              0.5555555555555556,
              "#d8576b"
             ],
             [
              0.6666666666666666,
              "#ed7953"
             ],
             [
              0.7777777777777778,
              "#fb9f3a"
             ],
             [
              0.8888888888888888,
              "#fdca26"
             ],
             [
              1,
              "#f0f921"
             ]
            ],
            "type": "histogram2dcontour"
           }
          ],
          "mesh3d": [
           {
            "colorbar": {
             "outlinewidth": 0,
             "ticks": ""
            },
            "type": "mesh3d"
           }
          ],
          "parcoords": [
           {
            "line": {
             "colorbar": {
              "outlinewidth": 0,
              "ticks": ""
             }
            },
            "type": "parcoords"
           }
          ],
          "pie": [
           {
            "automargin": true,
            "type": "pie"
           }
          ],
          "scatter": [
           {
            "fillpattern": {
             "fillmode": "overlay",
             "size": 10,
             "solidity": 0.2
            },
            "type": "scatter"
           }
          ],
          "scatter3d": [
           {
            "line": {
             "colorbar": {
              "outlinewidth": 0,
              "ticks": ""
             }
            },
            "marker": {
             "colorbar": {
              "outlinewidth": 0,
              "ticks": ""
             }
            },
            "type": "scatter3d"
           }
          ],
          "scattercarpet": [
           {
            "marker": {
             "colorbar": {
              "outlinewidth": 0,
              "ticks": ""
             }
            },
            "type": "scattercarpet"
           }
          ],
          "scattergeo": [
           {
            "marker": {
             "colorbar": {
              "outlinewidth": 0,
              "ticks": ""
             }
            },
            "type": "scattergeo"
           }
          ],
          "scattergl": [
           {
            "marker": {
             "colorbar": {
              "outlinewidth": 0,
              "ticks": ""
             }
            },
            "type": "scattergl"
           }
          ],
          "scattermap": [
           {
            "marker": {
             "colorbar": {
              "outlinewidth": 0,
              "ticks": ""
             }
            },
            "type": "scattermap"
           }
          ],
          "scattermapbox": [
           {
            "marker": {
             "colorbar": {
              "outlinewidth": 0,
              "ticks": ""
             }
            },
            "type": "scattermapbox"
           }
          ],
          "scatterpolar": [
           {
            "marker": {
             "colorbar": {
              "outlinewidth": 0,
              "ticks": ""
             }
            },
            "type": "scatterpolar"
           }
          ],
          "scatterpolargl": [
           {
            "marker": {
             "colorbar": {
              "outlinewidth": 0,
              "ticks": ""
             }
            },
            "type": "scatterpolargl"
           }
          ],
          "scatterternary": [
           {
            "marker": {
             "colorbar": {
              "outlinewidth": 0,
              "ticks": ""
             }
            },
            "type": "scatterternary"
           }
          ],
          "surface": [
           {
            "colorbar": {
             "outlinewidth": 0,
             "ticks": ""
            },
            "colorscale": [
             [
              0,
              "#0d0887"
             ],
             [
              0.1111111111111111,
              "#46039f"
             ],
             [
              0.2222222222222222,
              "#7201a8"
             ],
             [
              0.3333333333333333,
              "#9c179e"
             ],
             [
              0.4444444444444444,
              "#bd3786"
             ],
             [
              0.5555555555555556,
              "#d8576b"
             ],
             [
              0.6666666666666666,
              "#ed7953"
             ],
             [
              0.7777777777777778,
              "#fb9f3a"
             ],
             [
              0.8888888888888888,
              "#fdca26"
             ],
             [
              1,
              "#f0f921"
             ]
            ],
            "type": "surface"
           }
          ],
          "table": [
           {
            "cells": {
             "fill": {
              "color": "#EBF0F8"
             },
             "line": {
              "color": "white"
             }
            },
            "header": {
             "fill": {
              "color": "#C8D4E3"
             },
             "line": {
              "color": "white"
             }
            },
            "type": "table"
           }
          ]
         },
         "layout": {
          "annotationdefaults": {
           "arrowcolor": "#2a3f5f",
           "arrowhead": 0,
           "arrowwidth": 1
          },
          "autotypenumbers": "strict",
          "coloraxis": {
           "colorbar": {
            "outlinewidth": 0,
            "ticks": ""
           }
          },
          "colorscale": {
           "diverging": [
            [
             0,
             "#8e0152"
            ],
            [
             0.1,
             "#c51b7d"
            ],
            [
             0.2,
             "#de77ae"
            ],
            [
             0.3,
             "#f1b6da"
            ],
            [
             0.4,
             "#fde0ef"
            ],
            [
             0.5,
             "#f7f7f7"
            ],
            [
             0.6,
             "#e6f5d0"
            ],
            [
             0.7,
             "#b8e186"
            ],
            [
             0.8,
             "#7fbc41"
            ],
            [
             0.9,
             "#4d9221"
            ],
            [
             1,
             "#276419"
            ]
           ],
           "sequential": [
            [
             0,
             "#0d0887"
            ],
            [
             0.1111111111111111,
             "#46039f"
            ],
            [
             0.2222222222222222,
             "#7201a8"
            ],
            [
             0.3333333333333333,
             "#9c179e"
            ],
            [
             0.4444444444444444,
             "#bd3786"
            ],
            [
             0.5555555555555556,
             "#d8576b"
            ],
            [
             0.6666666666666666,
             "#ed7953"
            ],
            [
             0.7777777777777778,
             "#fb9f3a"
            ],
            [
             0.8888888888888888,
             "#fdca26"
            ],
            [
             1,
             "#f0f921"
            ]
           ],
           "sequentialminus": [
            [
             0,
             "#0d0887"
            ],
            [
             0.1111111111111111,
             "#46039f"
            ],
            [
             0.2222222222222222,
             "#7201a8"
            ],
            [
             0.3333333333333333,
             "#9c179e"
            ],
            [
             0.4444444444444444,
             "#bd3786"
            ],
            [
             0.5555555555555556,
             "#d8576b"
            ],
            [
             0.6666666666666666,
             "#ed7953"
            ],
            [
             0.7777777777777778,
             "#fb9f3a"
            ],
            [
             0.8888888888888888,
             "#fdca26"
            ],
            [
             1,
             "#f0f921"
            ]
           ]
          },
          "colorway": [
           "#636efa",
           "#EF553B",
           "#00cc96",
           "#ab63fa",
           "#FFA15A",
           "#19d3f3",
           "#FF6692",
           "#B6E880",
           "#FF97FF",
           "#FECB52"
          ],
          "font": {
           "color": "#2a3f5f"
          },
          "geo": {
           "bgcolor": "white",
           "lakecolor": "white",
           "landcolor": "#E5ECF6",
           "showlakes": true,
           "showland": true,
           "subunitcolor": "white"
          },
          "hoverlabel": {
           "align": "left"
          },
          "hovermode": "closest",
          "mapbox": {
           "style": "light"
          },
          "paper_bgcolor": "white",
          "plot_bgcolor": "#E5ECF6",
          "polar": {
           "angularaxis": {
            "gridcolor": "white",
            "linecolor": "white",
            "ticks": ""
           },
           "bgcolor": "#E5ECF6",
           "radialaxis": {
            "gridcolor": "white",
            "linecolor": "white",
            "ticks": ""
           }
          },
          "scene": {
           "xaxis": {
            "backgroundcolor": "#E5ECF6",
            "gridcolor": "white",
            "gridwidth": 2,
            "linecolor": "white",
            "showbackground": true,
            "ticks": "",
            "zerolinecolor": "white"
           },
           "yaxis": {
            "backgroundcolor": "#E5ECF6",
            "gridcolor": "white",
            "gridwidth": 2,
            "linecolor": "white",
            "showbackground": true,
            "ticks": "",
            "zerolinecolor": "white"
           },
           "zaxis": {
            "backgroundcolor": "#E5ECF6",
            "gridcolor": "white",
            "gridwidth": 2,
            "linecolor": "white",
            "showbackground": true,
            "ticks": "",
            "zerolinecolor": "white"
           }
          },
          "shapedefaults": {
           "line": {
            "color": "#2a3f5f"
           }
          },
          "ternary": {
           "aaxis": {
            "gridcolor": "white",
            "linecolor": "white",
            "ticks": ""
           },
           "baxis": {
            "gridcolor": "white",
            "linecolor": "white",
            "ticks": ""
           },
           "bgcolor": "#E5ECF6",
           "caxis": {
            "gridcolor": "white",
            "linecolor": "white",
            "ticks": ""
           }
          },
          "title": {
           "x": 0.05
          },
          "xaxis": {
           "automargin": true,
           "gridcolor": "white",
           "linecolor": "white",
           "ticks": "",
           "title": {
            "standoff": 15
           },
           "zerolinecolor": "white",
           "zerolinewidth": 2
          },
          "yaxis": {
           "automargin": true,
           "gridcolor": "white",
           "linecolor": "white",
           "ticks": "",
           "title": {
            "standoff": 15
           },
           "zerolinecolor": "white",
           "zerolinewidth": 2
          }
         }
        },
        "title": {
         "text": "HDBSCAN Clusters"
        },
        "xaxis": {
         "anchor": "y",
         "domain": [
          0,
          1
         ],
         "title": {
          "text": "x"
         }
        },
        "yaxis": {
         "anchor": "x",
         "domain": [
          0,
          1
         ],
         "title": {
          "text": "y"
         }
        }
       }
      }
     },
     "metadata": {},
     "output_type": "display_data"
    },
    {
     "data": {
      "application/vnd.plotly.v1+json": {
       "config": {
        "plotlyServerURL": "https://plot.ly"
       },
       "data": [
        {
         "customdata": [
          [
           "sports",
           "Products"
          ],
          [
           "piano",
           "Products"
          ],
          [
           "books",
           "Products"
          ],
          [
           "windows",
           "Products"
          ],
          [
           "emroidery",
           "Products"
          ],
          [
           "children",
           "Products"
          ],
          [
           "ac",
           "Products"
          ],
          [
           "ac",
           "Products"
          ],
          [
           "ac",
           "Products"
          ],
          [
           "air conditioning",
           "Products"
          ],
          [
           "school",
           "Products"
          ],
          [
           "sunscreen",
           "Products"
          ],
          [
           "school",
           "Products"
          ],
          [
           "sun",
           "Products"
          ],
          [
           "mechanical ",
           "Products"
          ],
          [
           "mechanical ",
           "Products"
          ],
          [
           "mechanical ",
           "Products"
          ],
          [
           "jodi",
           "Products"
          ],
          [
           "move",
           "Products"
          ],
          [
           "hair",
           "Products"
          ],
          [
           "hair",
           "Products"
          ],
          [
           "hair",
           "Products"
          ],
          [
           "hair",
           "Products"
          ],
          [
           "car",
           "Products"
          ],
          [
           "honey",
           "Products"
          ],
          [
           "bees",
           "Products"
          ],
          [
           "book",
           "Products"
          ],
          [
           "bees",
           "Products"
          ],
          [
           "nano",
           "Products"
          ],
          [
           "audio visual",
           "Products"
          ],
          [
           "solera",
           "Products"
          ]
         ],
         "hovertemplate": "kmeans_name=%{customdata[1]}<br>x=%{x}<br>y=%{y}<br>search_text=%{customdata[0]}<extra></extra>",
         "legendgroup": "Products",
         "marker": {
          "color": "#e41a1c",
          "symbol": "circle"
         },
         "mode": "markers",
         "name": "Products",
         "orientation": "v",
         "showlegend": true,
         "type": "scatter",
         "x": {
          "bdata": "1svpQAVyAkFQfP9AwE75QLriGEHUugJB8RUQQWPdEkGA+A9BN1YUQVkqBEH4eghBtGD+QGlvB0H9bx9BZu0aQSJrHUGl0A1Bx9AvQbgFA0GuKgFBJyQBQYbNA0G24QZBWOcAQQWH/0BJwQJBqggAQTWoB0Foh8A++cMMQQ==",
          "dtype": "f4"
         },
         "xaxis": "x",
         "y": {
          "bdata": "73UgQX6XNkGvtzdBOOQtQUVV2EA6sTBBY94VQedsE0EgoxVB6iITQQFALkGThh1BB8gxQbI/H0GQXNlADtLZQFS030CdnyRBSGj3QCdaKkHLVS1BpNkqQS0MKUHkLzBBE1UiQTP+IUHkQjNB3qUhQU7ZGUGJSZJB9pgjQQ==",
          "dtype": "f4"
         },
         "yaxis": "y"
        },
        {
         "customdata": [
          [
           "accounting",
           "finance"
          ],
          [
           "accounting",
           "finance"
          ],
          [
           "accounting",
           "finance"
          ],
          [
           "revenue",
           "finance"
          ],
          [
           "sales",
           "finance"
          ],
          [
           "insurance",
           "finance"
          ],
          [
           "sales",
           "finance"
          ],
          [
           "insurance",
           "finance"
          ],
          [
           "accounting",
           "finance"
          ],
          [
           "cpa",
           "finance"
          ],
          [
           "accounting",
           "finance"
          ],
          [
           "accounting",
           "finance"
          ],
          [
           "finance ",
           "finance"
          ]
         ],
         "hovertemplate": "kmeans_name=%{customdata[1]}<br>x=%{x}<br>y=%{y}<br>search_text=%{customdata[0]}<extra></extra>",
         "legendgroup": "finance",
         "marker": {
          "color": "#377eb8",
          "symbol": "circle"
         },
         "mode": "markers",
         "name": "finance",
         "orientation": "v",
         "showlegend": true,
         "type": "scatter",
         "x": {
          "bdata": "u6vBQJYmx0DqCL9Aim65QL7ltUDfTCZBWoW4QI5NJ0HJIMFAzNHGQPR9xUCnWsNAikvNQA==",
          "dtype": "f4"
         },
         "xaxis": "x",
         "y": {
          "bdata": "ryBkQQUnZ0GKzWZBVZZeQV6SXEFCcyxBrvdcQQJVLUH4LWVB3YBjQQwZZUGfZ2JBLJphQQ==",
          "dtype": "f4"
         },
         "yaxis": "y"
        },
        {
         "customdata": [
          [
           "indoor painting",
           "Keywords"
          ],
          [
           "decks",
           "Keywords"
          ],
          [
           "decks",
           "Keywords"
          ],
          [
           "painting",
           "Keywords"
          ],
          [
           "painting",
           "Keywords"
          ],
          [
           "decks",
           "Keywords"
          ],
          [
           "painting",
           "Keywords"
          ],
          [
           "painting",
           "Keywords"
          ],
          [
           "decks",
           "Keywords"
          ],
          [
           "embroidery ",
           "Keywords"
          ],
          [
           "painting ",
           "Keywords"
          ],
          [
           "painting ",
           "Keywords"
          ],
          [
           "painting ",
           "Keywords"
          ],
          [
           "painting ",
           "Keywords"
          ],
          [
           "embroidery ",
           "Keywords"
          ],
          [
           "painting ",
           "Keywords"
          ],
          [
           "painting ",
           "Keywords"
          ],
          [
           "painting ",
           "Keywords"
          ],
          [
           "embroidery ",
           "Keywords"
          ],
          [
           "painting ",
           "Keywords"
          ],
          [
           "painting",
           "Keywords"
          ],
          [
           "painter",
           "Keywords"
          ],
          [
           "embroidery",
           "Keywords"
          ]
         ],
         "hovertemplate": "kmeans_name=%{customdata[1]}<br>x=%{x}<br>y=%{y}<br>search_text=%{customdata[0]}<extra></extra>",
         "legendgroup": "Keywords",
         "marker": {
          "color": "#4daf4a",
          "symbol": "circle"
         },
         "mode": "markers",
         "name": "Keywords",
         "orientation": "v",
         "showlegend": true,
         "type": "scatter",
         "x": {
          "bdata": "+evoPvH94ECac+NAo+yLPiewCT/yc+BAA/SoPqfuRz+OGd9ALQpbP4FNID+wCNc+9EQrP6FJxD4EzT0/mmOUPnP3CT/6H0U/VZNnP326hz6Q2i8/eM5AujSEfT8=",
          "dtype": "f4"
         },
         "xaxis": "x",
         "y": {
          "bdata": "gPSQQStBHEGyfh1B426PQdMkj0GD+xtBONuRQctNkUGxXhtB1OSNQQLZj0Ekmo5B8qaRQUtZjUEXW4tBAnGNQaTri0HxuY9BGayMQb5fj0ENIY1B7qaPQYI4kEE=",
          "dtype": "f4"
         },
         "yaxis": "y"
        },
        {
         "customdata": [
          [
           "senior helpers",
           "Services"
          ],
          [
           "slider",
           "Services"
          ],
          [
           "adjuster",
           "Services"
          ],
          [
           "kcraft",
           "Services"
          ],
          [
           "kcraft",
           "Services"
          ],
          [
           "wilcox",
           "Services"
          ],
          [
           "kcraft",
           "Services"
          ],
          [
           "kcraft",
           "Services"
          ],
          [
           "fireplace ",
           "Services"
          ],
          [
           "fireplace ",
           "Services"
          ],
          [
           "plumber",
           "Services"
          ],
          [
           "handyman",
           "Services"
          ],
          [
           "plumber",
           "Services"
          ],
          [
           "plumber",
           "Services"
          ],
          [
           "deacon tim",
           "Services"
          ],
          [
           "general contractor ",
           "Services"
          ],
          [
           "general contractor ",
           "Services"
          ],
          [
           "general contractor ",
           "Services"
          ],
          [
           "handyman ",
           "Services"
          ],
          [
           "handyman ",
           "Services"
          ],
          [
           "handiman",
           "Services"
          ],
          [
           "montessori",
           "Services"
          ],
          [
           "montessori",
           "Services"
          ],
          [
           "dentist",
           "Services"
          ],
          [
           "dentist",
           "Services"
          ],
          [
           "dentist",
           "Services"
          ],
          [
           "dentist",
           "Services"
          ],
          [
           "dentist",
           "Services"
          ],
          [
           "lawyer",
           "Services"
          ],
          [
           "lawyer",
           "Services"
          ],
          [
           "electrician",
           "Services"
          ],
          [
           "plumber",
           "Services"
          ],
          [
           "senior",
           "Services"
          ],
          [
           "movers",
           "Services"
          ],
          [
           "movers",
           "Services"
          ],
          [
           "wedding",
           "Services"
          ],
          [
           "dentist",
           "Services"
          ],
          [
           "dentist",
           "Services"
          ],
          [
           "mark miller",
           "Services"
          ]
         ],
         "hovertemplate": "kmeans_name=%{customdata[1]}<br>x=%{x}<br>y=%{y}<br>search_text=%{customdata[0]}<extra></extra>",
         "legendgroup": "Services",
         "marker": {
          "color": "#984ea3",
          "symbol": "circle"
         },
         "mode": "markers",
         "name": "Services",
         "orientation": "v",
         "showlegend": true,
         "type": "scatter",
         "x": {
          "bdata": "PFI8QSghMkFp2i1BY9YeQYUwHkGq5UZBrj4eQYn0G0H/3iFBJYQgQbXbQUF95DlBnvdAQYPaRUFHe0hBdfI0QWuCM0HNPTdBqqo4QQ1IOkFfKjdBmMQQQZCdD0FKXD9BTC1AQUXPQEHtkkJBynlGQdW0K0FUpytBdPIxQQDaQEHn8TxBcYEyQZCQM0HIopA/cW9EQeuFQ0FGuUpB",
          "dtype": "f4"
         },
         "xaxis": "x",
         "y": {
          "bdata": "crMfQeqL8kD9MOtAY7jSQH500kAm4UlBPpjRQEHwzEA4gwpB7IgKQVg6TEFsERdBVahRQfC7UEFVEUZBB/AWQVmfF0FzTRVBfmYVQZ0bFUFfSxFB6qYxQRGoMkGI10pBeO5IQfkyT0HJ+01BwhRSQd1cK0EfrylBd5wdQXIsT0E/VSNBdRvzQLEm70CIco1BwXhNQVYQT0FjBUdB",
          "dtype": "f4"
         },
         "yaxis": "y"
        },
        {
         "customdata": [
          [
           "concrete",
           "Construction"
          ],
          [
           "landscaping ",
           "Construction"
          ],
          [
           "builders",
           "Construction"
          ],
          [
           "construction",
           "Construction"
          ],
          [
           "remodel",
           "Construction"
          ],
          [
           "remodeling",
           "Construction"
          ],
          [
           "my father's house",
           "Construction"
          ],
          [
           "house tepairs",
           "Construction"
          ],
          [
           "house repairs",
           "Construction"
          ],
          [
           "house repairs",
           "Construction"
          ],
          [
           "realtor",
           "Construction"
          ],
          [
           "carpeting and floor care ",
           "Construction"
          ],
          [
           "aragon farms ",
           "Construction"
          ],
          [
           "housing",
           "Construction"
          ],
          [
           "construction",
           "Construction"
          ],
          [
           "carpet installation ",
           "Construction"
          ]
         ],
         "hovertemplate": "kmeans_name=%{customdata[1]}<br>x=%{x}<br>y=%{y}<br>search_text=%{customdata[0]}<extra></extra>",
         "legendgroup": "Construction",
         "marker": {
          "color": "#ff7f00",
          "symbol": "circle"
         },
         "mode": "markers",
         "name": "Construction",
         "orientation": "v",
         "showlegend": true,
         "type": "scatter",
         "x": {
          "bdata": "RgofQUA8HkH1ziFBengdQcvaI0F1TiNB8HweQWLeIkE+nCZBtB8mQYZDJEFjBitB2oIcQYd5I0GUXiBBUlUsQQ==",
          "dtype": "f4"
         },
         "xaxis": "x",
         "y": {
          "bdata": "YwLtQDAR9UBu6P1ABSHvQFSf7UCvDvBASVMIQaKKB0GQ5ABBiTcCQRugBUFS+wNBEcUAQcgoAEGAuedAQ84FQQ==",
          "dtype": "f4"
         },
         "yaxis": "y"
        },
        {
         "customdata": [
          [
           "homeopathy",
           "Healthcare"
          ],
          [
           "homeopath",
           "Healthcare"
          ],
          [
           "homeschool",
           "Healthcare"
          ],
          [
           "homeopath",
           "Healthcare"
          ],
          [
           "emmaus catholic hospice",
           "Healthcare"
          ],
          [
           "home health care ",
           "Healthcare"
          ],
          [
           "emmaus catholic hospice",
           "Healthcare"
          ]
         ],
         "hovertemplate": "kmeans_name=%{customdata[1]}<br>x=%{x}<br>y=%{y}<br>search_text=%{customdata[0]}<extra></extra>",
         "legendgroup": "Healthcare",
         "marker": {
          "color": "#ffff33",
          "symbol": "circle"
         },
         "mode": "markers",
         "name": "Healthcare",
         "orientation": "v",
         "showlegend": true,
         "type": "scatter",
         "x": {
          "bdata": "030bQfGfGUGEdw5BxlIcQRAOGUERZyBBDkEZQQ==",
          "dtype": "f4"
         },
         "xaxis": "x",
         "y": {
          "bdata": "rToqQfS3J0HwDzBBLfwoQfRzMEFSEi5B6NMxQQ==",
          "dtype": "f4"
         },
         "yaxis": "y"
        }
       ],
       "layout": {
        "legend": {
         "title": {
          "text": "kmeans_name"
         },
         "tracegroupgap": 0
        },
        "template": {
         "data": {
          "bar": [
           {
            "error_x": {
             "color": "#2a3f5f"
            },
            "error_y": {
             "color": "#2a3f5f"
            },
            "marker": {
             "line": {
              "color": "#E5ECF6",
              "width": 0.5
             },
             "pattern": {
              "fillmode": "overlay",
              "size": 10,
              "solidity": 0.2
             }
            },
            "type": "bar"
           }
          ],
          "barpolar": [
           {
            "marker": {
             "line": {
              "color": "#E5ECF6",
              "width": 0.5
             },
             "pattern": {
              "fillmode": "overlay",
              "size": 10,
              "solidity": 0.2
             }
            },
            "type": "barpolar"
           }
          ],
          "carpet": [
           {
            "aaxis": {
             "endlinecolor": "#2a3f5f",
             "gridcolor": "white",
             "linecolor": "white",
             "minorgridcolor": "white",
             "startlinecolor": "#2a3f5f"
            },
            "baxis": {
             "endlinecolor": "#2a3f5f",
             "gridcolor": "white",
             "linecolor": "white",
             "minorgridcolor": "white",
             "startlinecolor": "#2a3f5f"
            },
            "type": "carpet"
           }
          ],
          "choropleth": [
           {
            "colorbar": {
             "outlinewidth": 0,
             "ticks": ""
            },
            "type": "choropleth"
           }
          ],
          "contour": [
           {
            "colorbar": {
             "outlinewidth": 0,
             "ticks": ""
            },
            "colorscale": [
             [
              0,
              "#0d0887"
             ],
             [
              0.1111111111111111,
              "#46039f"
             ],
             [
              0.2222222222222222,
              "#7201a8"
             ],
             [
              0.3333333333333333,
              "#9c179e"
             ],
             [
              0.4444444444444444,
              "#bd3786"
             ],
             [
              0.5555555555555556,
              "#d8576b"
             ],
             [
              0.6666666666666666,
              "#ed7953"
             ],
             [
              0.7777777777777778,
              "#fb9f3a"
             ],
             [
              0.8888888888888888,
              "#fdca26"
             ],
             [
              1,
              "#f0f921"
             ]
            ],
            "type": "contour"
           }
          ],
          "contourcarpet": [
           {
            "colorbar": {
             "outlinewidth": 0,
             "ticks": ""
            },
            "type": "contourcarpet"
           }
          ],
          "heatmap": [
           {
            "colorbar": {
             "outlinewidth": 0,
             "ticks": ""
            },
            "colorscale": [
             [
              0,
              "#0d0887"
             ],
             [
              0.1111111111111111,
              "#46039f"
             ],
             [
              0.2222222222222222,
              "#7201a8"
             ],
             [
              0.3333333333333333,
              "#9c179e"
             ],
             [
              0.4444444444444444,
              "#bd3786"
             ],
             [
              0.5555555555555556,
              "#d8576b"
             ],
             [
              0.6666666666666666,
              "#ed7953"
             ],
             [
              0.7777777777777778,
              "#fb9f3a"
             ],
             [
              0.8888888888888888,
              "#fdca26"
             ],
             [
              1,
              "#f0f921"
             ]
            ],
            "type": "heatmap"
           }
          ],
          "histogram": [
           {
            "marker": {
             "pattern": {
              "fillmode": "overlay",
              "size": 10,
              "solidity": 0.2
             }
            },
            "type": "histogram"
           }
          ],
          "histogram2d": [
           {
            "colorbar": {
             "outlinewidth": 0,
             "ticks": ""
            },
            "colorscale": [
             [
              0,
              "#0d0887"
             ],
             [
              0.1111111111111111,
              "#46039f"
             ],
             [
              0.2222222222222222,
              "#7201a8"
             ],
             [
              0.3333333333333333,
              "#9c179e"
             ],
             [
              0.4444444444444444,
              "#bd3786"
             ],
             [
              0.5555555555555556,
              "#d8576b"
             ],
             [
              0.6666666666666666,
              "#ed7953"
             ],
             [
              0.7777777777777778,
              "#fb9f3a"
             ],
             [
              0.8888888888888888,
              "#fdca26"
             ],
             [
              1,
              "#f0f921"
             ]
            ],
            "type": "histogram2d"
           }
          ],
          "histogram2dcontour": [
           {
            "colorbar": {
             "outlinewidth": 0,
             "ticks": ""
            },
            "colorscale": [
             [
              0,
              "#0d0887"
             ],
             [
              0.1111111111111111,
              "#46039f"
             ],
             [
              0.2222222222222222,
              "#7201a8"
             ],
             [
              0.3333333333333333,
              "#9c179e"
             ],
             [
              0.4444444444444444,
              "#bd3786"
             ],
             [
              0.5555555555555556,
              "#d8576b"
             ],
             [
              0.6666666666666666,
              "#ed7953"
             ],
             [
              0.7777777777777778,
              "#fb9f3a"
             ],
             [
              0.8888888888888888,
              "#fdca26"
             ],
             [
              1,
              "#f0f921"
             ]
            ],
            "type": "histogram2dcontour"
           }
          ],
          "mesh3d": [
           {
            "colorbar": {
             "outlinewidth": 0,
             "ticks": ""
            },
            "type": "mesh3d"
           }
          ],
          "parcoords": [
           {
            "line": {
             "colorbar": {
              "outlinewidth": 0,
              "ticks": ""
             }
            },
            "type": "parcoords"
           }
          ],
          "pie": [
           {
            "automargin": true,
            "type": "pie"
           }
          ],
          "scatter": [
           {
            "fillpattern": {
             "fillmode": "overlay",
             "size": 10,
             "solidity": 0.2
            },
            "type": "scatter"
           }
          ],
          "scatter3d": [
           {
            "line": {
             "colorbar": {
              "outlinewidth": 0,
              "ticks": ""
             }
            },
            "marker": {
             "colorbar": {
              "outlinewidth": 0,
              "ticks": ""
             }
            },
            "type": "scatter3d"
           }
          ],
          "scattercarpet": [
           {
            "marker": {
             "colorbar": {
              "outlinewidth": 0,
              "ticks": ""
             }
            },
            "type": "scattercarpet"
           }
          ],
          "scattergeo": [
           {
            "marker": {
             "colorbar": {
              "outlinewidth": 0,
              "ticks": ""
             }
            },
            "type": "scattergeo"
           }
          ],
          "scattergl": [
           {
            "marker": {
             "colorbar": {
              "outlinewidth": 0,
              "ticks": ""
             }
            },
            "type": "scattergl"
           }
          ],
          "scattermap": [
           {
            "marker": {
             "colorbar": {
              "outlinewidth": 0,
              "ticks": ""
             }
            },
            "type": "scattermap"
           }
          ],
          "scattermapbox": [
           {
            "marker": {
             "colorbar": {
              "outlinewidth": 0,
              "ticks": ""
             }
            },
            "type": "scattermapbox"
           }
          ],
          "scatterpolar": [
           {
            "marker": {
             "colorbar": {
              "outlinewidth": 0,
              "ticks": ""
             }
            },
            "type": "scatterpolar"
           }
          ],
          "scatterpolargl": [
           {
            "marker": {
             "colorbar": {
              "outlinewidth": 0,
              "ticks": ""
             }
            },
            "type": "scatterpolargl"
           }
          ],
          "scatterternary": [
           {
            "marker": {
             "colorbar": {
              "outlinewidth": 0,
              "ticks": ""
             }
            },
            "type": "scatterternary"
           }
          ],
          "surface": [
           {
            "colorbar": {
             "outlinewidth": 0,
             "ticks": ""
            },
            "colorscale": [
             [
              0,
              "#0d0887"
             ],
             [
              0.1111111111111111,
              "#46039f"
             ],
             [
              0.2222222222222222,
              "#7201a8"
             ],
             [
              0.3333333333333333,
              "#9c179e"
             ],
             [
              0.4444444444444444,
              "#bd3786"
             ],
             [
              0.5555555555555556,
              "#d8576b"
             ],
             [
              0.6666666666666666,
              "#ed7953"
             ],
             [
              0.7777777777777778,
              "#fb9f3a"
             ],
             [
              0.8888888888888888,
              "#fdca26"
             ],
             [
              1,
              "#f0f921"
             ]
            ],
            "type": "surface"
           }
          ],
          "table": [
           {
            "cells": {
             "fill": {
              "color": "#EBF0F8"
             },
             "line": {
              "color": "white"
             }
            },
            "header": {
             "fill": {
              "color": "#C8D4E3"
             },
             "line": {
              "color": "white"
             }
            },
            "type": "table"
           }
          ]
         },
         "layout": {
          "annotationdefaults": {
           "arrowcolor": "#2a3f5f",
           "arrowhead": 0,
           "arrowwidth": 1
          },
          "autotypenumbers": "strict",
          "coloraxis": {
           "colorbar": {
            "outlinewidth": 0,
            "ticks": ""
           }
          },
          "colorscale": {
           "diverging": [
            [
             0,
             "#8e0152"
            ],
            [
             0.1,
             "#c51b7d"
            ],
            [
             0.2,
             "#de77ae"
            ],
            [
             0.3,
             "#f1b6da"
            ],
            [
             0.4,
             "#fde0ef"
            ],
            [
             0.5,
             "#f7f7f7"
            ],
            [
             0.6,
             "#e6f5d0"
            ],
            [
             0.7,
             "#b8e186"
            ],
            [
             0.8,
             "#7fbc41"
            ],
            [
             0.9,
             "#4d9221"
            ],
            [
             1,
             "#276419"
            ]
           ],
           "sequential": [
            [
             0,
             "#0d0887"
            ],
            [
             0.1111111111111111,
             "#46039f"
            ],
            [
             0.2222222222222222,
             "#7201a8"
            ],
            [
             0.3333333333333333,
             "#9c179e"
            ],
            [
             0.4444444444444444,
             "#bd3786"
            ],
            [
             0.5555555555555556,
             "#d8576b"
            ],
            [
             0.6666666666666666,
             "#ed7953"
            ],
            [
             0.7777777777777778,
             "#fb9f3a"
            ],
            [
             0.8888888888888888,
             "#fdca26"
            ],
            [
             1,
             "#f0f921"
            ]
           ],
           "sequentialminus": [
            [
             0,
             "#0d0887"
            ],
            [
             0.1111111111111111,
             "#46039f"
            ],
            [
             0.2222222222222222,
             "#7201a8"
            ],
            [
             0.3333333333333333,
             "#9c179e"
            ],
            [
             0.4444444444444444,
             "#bd3786"
            ],
            [
             0.5555555555555556,
             "#d8576b"
            ],
            [
             0.6666666666666666,
             "#ed7953"
            ],
            [
             0.7777777777777778,
             "#fb9f3a"
            ],
            [
             0.8888888888888888,
             "#fdca26"
            ],
            [
             1,
             "#f0f921"
            ]
           ]
          },
          "colorway": [
           "#636efa",
           "#EF553B",
           "#00cc96",
           "#ab63fa",
           "#FFA15A",
           "#19d3f3",
           "#FF6692",
           "#B6E880",
           "#FF97FF",
           "#FECB52"
          ],
          "font": {
           "color": "#2a3f5f"
          },
          "geo": {
           "bgcolor": "white",
           "lakecolor": "white",
           "landcolor": "#E5ECF6",
           "showlakes": true,
           "showland": true,
           "subunitcolor": "white"
          },
          "hoverlabel": {
           "align": "left"
          },
          "hovermode": "closest",
          "mapbox": {
           "style": "light"
          },
          "paper_bgcolor": "white",
          "plot_bgcolor": "#E5ECF6",
          "polar": {
           "angularaxis": {
            "gridcolor": "white",
            "linecolor": "white",
            "ticks": ""
           },
           "bgcolor": "#E5ECF6",
           "radialaxis": {
            "gridcolor": "white",
            "linecolor": "white",
            "ticks": ""
           }
          },
          "scene": {
           "xaxis": {
            "backgroundcolor": "#E5ECF6",
            "gridcolor": "white",
            "gridwidth": 2,
            "linecolor": "white",
            "showbackground": true,
            "ticks": "",
            "zerolinecolor": "white"
           },
           "yaxis": {
            "backgroundcolor": "#E5ECF6",
            "gridcolor": "white",
            "gridwidth": 2,
            "linecolor": "white",
            "showbackground": true,
            "ticks": "",
            "zerolinecolor": "white"
           },
           "zaxis": {
            "backgroundcolor": "#E5ECF6",
            "gridcolor": "white",
            "gridwidth": 2,
            "linecolor": "white",
            "showbackground": true,
            "ticks": "",
            "zerolinecolor": "white"
           }
          },
          "shapedefaults": {
           "line": {
            "color": "#2a3f5f"
           }
          },
          "ternary": {
           "aaxis": {
            "gridcolor": "white",
            "linecolor": "white",
            "ticks": ""
           },
           "baxis": {
            "gridcolor": "white",
            "linecolor": "white",
            "ticks": ""
           },
           "bgcolor": "#E5ECF6",
           "caxis": {
            "gridcolor": "white",
            "linecolor": "white",
            "ticks": ""
           }
          },
          "title": {
           "x": 0.05
          },
          "xaxis": {
           "automargin": true,
           "gridcolor": "white",
           "linecolor": "white",
           "ticks": "",
           "title": {
            "standoff": 15
           },
           "zerolinecolor": "white",
           "zerolinewidth": 2
          },
          "yaxis": {
           "automargin": true,
           "gridcolor": "white",
           "linecolor": "white",
           "ticks": "",
           "title": {
            "standoff": 15
           },
           "zerolinecolor": "white",
           "zerolinewidth": 2
          }
         }
        },
        "title": {
         "text": "KMeans Clusters"
        },
        "xaxis": {
         "anchor": "y",
         "domain": [
          0,
          1
         ],
         "title": {
          "text": "x"
         }
        },
        "yaxis": {
         "anchor": "x",
         "domain": [
          0,
          1
         ],
         "title": {
          "text": "y"
         }
        }
       }
      }
     },
     "metadata": {},
     "output_type": "display_data"
    }
   ],
   "source": [
    "reducer = umap.UMAP(n_neighbors=15, min_dist=0.1, metric='cosine', random_state=42)\n",
    "proj = reducer.fit_transform(embeddings)\n",
    "search_counts['x'], search_counts['y'] = proj[:,0], proj[:,1]\n",
    "\n",
    "# Define a distinct color palette\n",
    "colors = ['#e41a1c', '#377eb8', '#4daf4a', '#984ea3', '#ff7f00', '#ffff33', '#a65628', '#f781bf']\n",
    "\n",
    "\n",
    "\n",
    "# --- HDBSCAN plot ---\n",
    "fig_hdb = px.scatter(\n",
    "    search_counts, x='x', y='y',\n",
    "    color='hdbscan_name',\n",
    "    hover_data=[TEXT_COL, 'hdbscan_name'],\n",
    "    title='HDBSCAN Clusters',\n",
    "    color_discrete_sequence=colors\n",
    ")\n",
    "fig_hdb.show()\n",
    "\n",
    "# --- KMeans plot ---\n",
    "fig_km = px.scatter(\n",
    "    search_counts, x='x', y='y',\n",
    "    color='kmeans_name',\n",
    "    hover_data=[TEXT_COL, 'kmeans_name'],\n",
    "    title='KMeans Clusters',\n",
    "    color_discrete_sequence=colors\n",
    ")\n",
    "fig_km.show()"
   ]
  },
  {
   "cell_type": "code",
   "execution_count": null,
   "id": "894682fe",
   "metadata": {},
   "outputs": [],
   "source": []
  }
 ],
 "metadata": {
  "kernelspec": {
   "display_name": "co-catholic-business-directory-data-SownamtS",
   "language": "python",
   "name": "python3"
  },
  "language_info": {
   "codemirror_mode": {
    "name": "ipython",
    "version": 3
   },
   "file_extension": ".py",
   "mimetype": "text/x-python",
   "name": "python",
   "nbconvert_exporter": "python",
   "pygments_lexer": "ipython3",
   "version": "3.11.7"
  }
 },
 "nbformat": 4,
 "nbformat_minor": 5
}
